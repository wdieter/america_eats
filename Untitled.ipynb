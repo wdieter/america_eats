{
 "cells": [
  {
   "cell_type": "code",
   "execution_count": 7,
   "metadata": {
    "collapsed": true
   },
   "outputs": [],
   "source": [
    "from bs4 import BeautifulSoup as bs\n",
    "import pandas as pd\n",
    "import os\n",
    "from collections import defaultdict\n",
    "import re "
   ]
  },
  {
   "cell_type": "markdown",
   "metadata": {},
   "source": [
    "Plan: walk through files\n",
    "grab: title, ingredients(main), ingredients(detailed), old url, short description\n",
    "convert dict to df and then write to SQLlite instance"
   ]
  },
  {
   "cell_type": "code",
   "execution_count": 2,
   "metadata": {},
   "outputs": [
    {
     "name": "stdout",
     "output_type": "stream",
     "text": [
      "/Users/wolfiedieterich/Desktop/america_eats/templates\n"
     ]
    }
   ],
   "source": [
    "cd templates/"
   ]
  },
  {
   "cell_type": "code",
   "execution_count": 3,
   "metadata": {
    "collapsed": true
   },
   "outputs": [],
   "source": [
    "with open(\"Classic Beef Brisket With Caramelized Onions.html\") as fo:\n",
    "    soup = bs(fo.read(), 'html.parser')"
   ]
  },
  {
   "cell_type": "code",
   "execution_count": 4,
   "metadata": {
    "collapsed": true
   },
   "outputs": [],
   "source": [
    "s = '1' "
   ]
  },
  {
   "cell_type": "code",
   "execution_count": 5,
   "metadata": {},
   "outputs": [
    {
     "data": {
      "text/plain": [
       "False"
      ]
     },
     "execution_count": 5,
     "metadata": {},
     "output_type": "execute_result"
    }
   ],
   "source": [
    "bool(re.search('[a-zA-Z]', s))"
   ]
  },
  {
   "cell_type": "code",
   "execution_count": null,
   "metadata": {
    "collapsed": true
   },
   "outputs": [],
   "source": []
  },
  {
   "cell_type": "code",
   "execution_count": 6,
   "metadata": {},
   "outputs": [
    {
     "name": "stdout",
     "output_type": "stream",
     "text": [
      "Jewish\n",
      "Allspice\n",
      "Beef Brisket\n",
      "Onion\n"
     ]
    }
   ],
   "source": [
    "for i, child in enumerate(soup.find(class_='special-diets tag-block').children):\n",
    "    contents = child.string.rstrip().lstrip()\n",
    "    if re.search('[a-zA-Z]', child.string):\n",
    "        print(child.string.rstrip().lstrip())"
   ]
  },
  {
   "cell_type": "code",
   "execution_count": 7,
   "metadata": {},
   "outputs": [
    {
     "data": {
      "text/plain": [
       "'This is a classic brisket recipe with no bells and whistles, just deep flavor, moist succulent meat and lots of caramelized onions. The only caveat: Buy a brisket that’s not too lean. You want it well-marbled with fat or the result will be dry, not juicy.'"
      ]
     },
     "execution_count": 7,
     "metadata": {},
     "output_type": "execute_result"
    }
   ],
   "source": [
    "soup.find(itemprop='description').p.get_text()\n"
   ]
  },
  {
   "cell_type": "code",
   "execution_count": 8,
   "metadata": {
    "collapsed": true
   },
   "outputs": [],
   "source": [
    "file_list = [file for file in os.listdir() if '.html' in file]"
   ]
  },
  {
   "cell_type": "code",
   "execution_count": 12,
   "metadata": {
    "collapsed": true
   },
   "outputs": [],
   "source": [
    "d = defaultdict(dict)\n",
    "for file in file_list:\n",
    "    with open(file, 'r') as fo:\n",
    "        soup = bs(fo.read(), 'html.parser')\n",
    "        d[file]['h1'] = soup.h1.get_text().lstrip().rstrip()\n",
    "        d[file]['yield'] = soup.find(itemprop='recipeYield').get_text()\n",
    "        d[file]['description'] = soup.find(itemprop='description').p.get_text()\n",
    "\n",
    "    "
   ]
  },
  {
   "cell_type": "code",
   "execution_count": null,
   "metadata": {
    "collapsed": true
   },
   "outputs": [],
   "source": []
  },
  {
   "cell_type": "code",
   "execution_count": 13,
   "metadata": {},
   "outputs": [
    {
     "data": {
      "text/plain": [
       "defaultdict(dict,\n",
       "            {'Classic Beef Brisket With Caramelized Onions.html': {'description': 'This is a classic brisket recipe with no bells and whistles, just deep flavor, moist succulent meat and lots of caramelized onions. The only caveat: Buy a brisket that’s not too lean. You want it well-marbled with fat or the result will be dry, not juicy.',\n",
       "              'h1': 'Classic Beef Brisket With Caramelized Onions',\n",
       "              'yield': '6 to 8 servings'},\n",
       "             'Fresh Fig Cake With Honey Cream-Cheese Frosting.html': {'description': \"This dense and deeply figgy cake, adapted from Eli's Table in Manhattan, gets its complex flavor from a combination of fresh figs and fig jam, seasoned generously with cinnamon, cardamom and ginger. It’s then filled and topped with cream cheese frosting that is sweetened with a combination of confectioners’ sugar for lightness and honey for richness. Over all, it’s a bit like carrot cake, except softer and sweeter. You can make the cake two to three days ahead and store it, well wrapped or under a cake dome, in the refrigerator. It gets even moister as it sits. If you can’t get fresh figs, chopped peeled apple works nicely as a substitute.\",\n",
       "              'h1': 'Fresh Fig Cake With Honey Cream-Cheese Frosting',\n",
       "              'yield': '12 servings'},\n",
       "             'Swiss Chard and Lamb Torte With Fennel-Pomegranate Relish.html': {'description': \"Festive dishes in Israel and throughout the Middle East often include rice and lamb. This magnificent recipe, topped with a bright pomegranate and fennel relish, is the Israeli chef Erez Komarovsky's twist on an ancient, labor-intensive classic of individual stuffed chard, cabbage or grape leaves, symbolizing the plenty of the fall harvest. It is perfect for Rosh Hashana or any seasonal holiday gathering. Make it with blanched Swiss chard, grape leaves or even cabbage or kale as the outer crust, and assemble it a day in advance. Then bake it and revel in the heightened flavors from the cardamom, cinnamon, fennel and mint; the crunch of pistachio; and the slight kick you get from the Mexican Serrano pepper now planted in Israel.\",\n",
       "              'h1': 'Swiss Chard and Lamb Torte With Fennel-Pomegranate Relish',\n",
       "              'yield': '10 to 12 servings'}})"
      ]
     },
     "execution_count": 13,
     "metadata": {},
     "output_type": "execute_result"
    }
   ],
   "source": [
    "d"
   ]
  },
  {
   "cell_type": "code",
   "execution_count": 39,
   "metadata": {
    "collapsed": true
   },
   "outputs": [],
   "source": [
    "df = pd.DataFrame.from_dict(d)"
   ]
  },
  {
   "cell_type": "code",
   "execution_count": 40,
   "metadata": {
    "collapsed": true
   },
   "outputs": [],
   "source": [
    "df = df.T"
   ]
  },
  {
   "cell_type": "code",
   "execution_count": 51,
   "metadata": {
    "collapsed": true
   },
   "outputs": [],
   "source": [
    "df = df.rename_axis('name')"
   ]
  },
  {
   "cell_type": "code",
   "execution_count": 52,
   "metadata": {},
   "outputs": [
    {
     "data": {
      "text/html": [
       "<div>\n",
       "<style>\n",
       "    .dataframe thead tr:only-child th {\n",
       "        text-align: right;\n",
       "    }\n",
       "\n",
       "    .dataframe thead th {\n",
       "        text-align: left;\n",
       "    }\n",
       "\n",
       "    .dataframe tbody tr th {\n",
       "        vertical-align: top;\n",
       "    }\n",
       "</style>\n",
       "<table border=\"1\" class=\"dataframe\">\n",
       "  <thead>\n",
       "    <tr style=\"text-align: right;\">\n",
       "      <th></th>\n",
       "      <th>description</th>\n",
       "      <th>h1</th>\n",
       "      <th>yield</th>\n",
       "    </tr>\n",
       "    <tr>\n",
       "      <th>name</th>\n",
       "      <th></th>\n",
       "      <th></th>\n",
       "      <th></th>\n",
       "    </tr>\n",
       "  </thead>\n",
       "  <tbody>\n",
       "    <tr>\n",
       "      <th>Classic Beef Brisket With Caramelized Onions.html</th>\n",
       "      <td>This is a classic brisket recipe with no bells...</td>\n",
       "      <td>Classic Beef Brisket With Caramelized Onions</td>\n",
       "      <td>6 to 8 servings</td>\n",
       "    </tr>\n",
       "    <tr>\n",
       "      <th>Fresh Fig Cake With Honey Cream-Cheese Frosting.html</th>\n",
       "      <td>This dense and deeply figgy cake, adapted from...</td>\n",
       "      <td>Fresh Fig Cake With Honey Cream-Cheese Frosting</td>\n",
       "      <td>12 servings</td>\n",
       "    </tr>\n",
       "    <tr>\n",
       "      <th>Swiss Chard and Lamb Torte With Fennel-Pomegranate Relish.html</th>\n",
       "      <td>Festive dishes in Israel and throughout the Mi...</td>\n",
       "      <td>Swiss Chard and Lamb Torte With Fennel-Pomegra...</td>\n",
       "      <td>10 to 12 servings</td>\n",
       "    </tr>\n",
       "  </tbody>\n",
       "</table>\n",
       "</div>"
      ],
      "text/plain": [
       "                                                                                          description  \\\n",
       "name                                                                                                    \n",
       "Classic Beef Brisket With Caramelized Onions.html   This is a classic brisket recipe with no bells...   \n",
       "Fresh Fig Cake With Honey Cream-Cheese Frosting...  This dense and deeply figgy cake, adapted from...   \n",
       "Swiss Chard and Lamb Torte With Fennel-Pomegran...  Festive dishes in Israel and throughout the Mi...   \n",
       "\n",
       "                                                                                                   h1  \\\n",
       "name                                                                                                    \n",
       "Classic Beef Brisket With Caramelized Onions.html        Classic Beef Brisket With Caramelized Onions   \n",
       "Fresh Fig Cake With Honey Cream-Cheese Frosting...    Fresh Fig Cake With Honey Cream-Cheese Frosting   \n",
       "Swiss Chard and Lamb Torte With Fennel-Pomegran...  Swiss Chard and Lamb Torte With Fennel-Pomegra...   \n",
       "\n",
       "                                                                yield  \n",
       "name                                                                   \n",
       "Classic Beef Brisket With Caramelized Onions.html     6 to 8 servings  \n",
       "Fresh Fig Cake With Honey Cream-Cheese Frosting...        12 servings  \n",
       "Swiss Chard and Lamb Torte With Fennel-Pomegran...  10 to 12 servings  "
      ]
     },
     "execution_count": 52,
     "metadata": {},
     "output_type": "execute_result"
    }
   ],
   "source": [
    "df"
   ]
  },
  {
   "cell_type": "code",
   "execution_count": 1,
   "metadata": {
    "collapsed": true
   },
   "outputs": [],
   "source": [
    "import sqlite3"
   ]
  },
  {
   "cell_type": "code",
   "execution_count": 1,
   "metadata": {},
   "outputs": [
    {
     "ename": "NameError",
     "evalue": "name 'conn' is not defined",
     "output_type": "error",
     "traceback": [
      "\u001b[0;31m---------------------------------------------------------------------------\u001b[0m",
      "\u001b[0;31mNameError\u001b[0m                                 Traceback (most recent call last)",
      "\u001b[0;32m<ipython-input-1-002d50cfac03>\u001b[0m in \u001b[0;36m<module>\u001b[0;34m()\u001b[0m\n\u001b[0;32m----> 1\u001b[0;31m \u001b[0mconn\u001b[0m\u001b[0;34m.\u001b[0m\u001b[0mclose\u001b[0m\u001b[0;34m(\u001b[0m\u001b[0;34m)\u001b[0m\u001b[0;34m\u001b[0m\u001b[0m\n\u001b[0m",
      "\u001b[0;31mNameError\u001b[0m: name 'conn' is not defined"
     ]
    }
   ],
   "source": [
    "conn.close()"
   ]
  },
  {
   "cell_type": "code",
   "execution_count": 2,
   "metadata": {
    "collapsed": true
   },
   "outputs": [],
   "source": [
    "conn = sqlite3.connect('am_v1.sqlite')"
   ]
  },
  {
   "cell_type": "code",
   "execution_count": 3,
   "metadata": {
    "collapsed": true
   },
   "outputs": [],
   "source": [
    "conn.row_factory = sqlite3.Row"
   ]
  },
  {
   "cell_type": "code",
   "execution_count": 4,
   "metadata": {
    "collapsed": true
   },
   "outputs": [],
   "source": [
    "c = conn.cursor()"
   ]
  },
  {
   "cell_type": "code",
   "execution_count": 5,
   "metadata": {
    "collapsed": true
   },
   "outputs": [],
   "source": [
    "#df.to_sql('Recipes', conn, if_exists='append')"
   ]
  },
  {
   "cell_type": "code",
   "execution_count": 6,
   "metadata": {
    "collapsed": true
   },
   "outputs": [],
   "source": [
    "def query_db(page_name):\n",
    "    c.execute(f\"select name, h1, description, yield from Recipes where name = '{page_name}'\")\n",
    "    return c\n"
   ]
  },
  {
   "cell_type": "code",
   "execution_count": 21,
   "metadata": {
    "collapsed": true
   },
   "outputs": [],
   "source": [
    "d = query_db('Classic Beef Brisket With Caramelized Onions.html')"
   ]
  },
  {
   "cell_type": "code",
   "execution_count": 22,
   "metadata": {},
   "outputs": [
    {
     "data": {
      "text/plain": [
       "<sqlite3.Cursor at 0x10e437e30>"
      ]
     },
     "execution_count": 22,
     "metadata": {},
     "output_type": "execute_result"
    }
   ],
   "source": []
  },
  {
   "cell_type": "code",
   "execution_count": 23,
   "metadata": {
    "collapsed": true
   },
   "outputs": [],
   "source": [
    "row = d.fetchone()"
   ]
  },
  {
   "cell_type": "code",
   "execution_count": 24,
   "metadata": {},
   "outputs": [
    {
     "data": {
      "text/plain": [
       "<sqlite3.Row at 0x10fde16f0>"
      ]
     },
     "execution_count": 24,
     "metadata": {},
     "output_type": "execute_result"
    }
   ],
   "source": [
    "row"
   ]
  },
  {
   "cell_type": "code",
   "execution_count": 28,
   "metadata": {},
   "outputs": [
    {
     "data": {
      "text/plain": [
       "'Classic Beef Brisket With Caramelized Onions.html'"
      ]
     },
     "execution_count": 28,
     "metadata": {},
     "output_type": "execute_result"
    }
   ],
   "source": [
    "row['name']"
   ]
  },
  {
   "cell_type": "code",
   "execution_count": 16,
   "metadata": {
    "collapsed": true
   },
   "outputs": [],
   "source": [
    "response = c.execute('Select * from Recipes')"
   ]
  },
  {
   "cell_type": "code",
   "execution_count": null,
   "metadata": {
    "collapsed": true
   },
   "outputs": [],
   "source": []
  },
  {
   "cell_type": "code",
   "execution_count": 17,
   "metadata": {
    "collapsed": true
   },
   "outputs": [],
   "source": [
    "df1 = pd.DataFrame(response.fetchall())"
   ]
  },
  {
   "cell_type": "code",
   "execution_count": 18,
   "metadata": {},
   "outputs": [
    {
     "data": {
      "text/html": [
       "<div>\n",
       "<style>\n",
       "    .dataframe thead tr:only-child th {\n",
       "        text-align: right;\n",
       "    }\n",
       "\n",
       "    .dataframe thead th {\n",
       "        text-align: left;\n",
       "    }\n",
       "\n",
       "    .dataframe tbody tr th {\n",
       "        vertical-align: top;\n",
       "    }\n",
       "</style>\n",
       "<table border=\"1\" class=\"dataframe\">\n",
       "  <thead>\n",
       "    <tr style=\"text-align: right;\">\n",
       "      <th></th>\n",
       "      <th>0</th>\n",
       "      <th>1</th>\n",
       "      <th>2</th>\n",
       "      <th>3</th>\n",
       "    </tr>\n",
       "  </thead>\n",
       "  <tbody>\n",
       "    <tr>\n",
       "      <th>0</th>\n",
       "      <td>Classic Beef Brisket With Caramelized Onions.html</td>\n",
       "      <td>This is a classic brisket recipe with no bells...</td>\n",
       "      <td>Classic Beef Brisket With Caramelized Onions</td>\n",
       "      <td>6 to 8 servings</td>\n",
       "    </tr>\n",
       "    <tr>\n",
       "      <th>1</th>\n",
       "      <td>Fresh Fig Cake With Honey Cream-Cheese Frostin...</td>\n",
       "      <td>This dense and deeply figgy cake, adapted from...</td>\n",
       "      <td>Fresh Fig Cake With Honey Cream-Cheese Frosting</td>\n",
       "      <td>12 servings</td>\n",
       "    </tr>\n",
       "    <tr>\n",
       "      <th>2</th>\n",
       "      <td>Swiss Chard and Lamb Torte With Fennel-Pomegra...</td>\n",
       "      <td>Festive dishes in Israel and throughout the Mi...</td>\n",
       "      <td>Swiss Chard and Lamb Torte With Fennel-Pomegra...</td>\n",
       "      <td>10 to 12 servings</td>\n",
       "    </tr>\n",
       "  </tbody>\n",
       "</table>\n",
       "</div>"
      ],
      "text/plain": [
       "                                                   0  \\\n",
       "0  Classic Beef Brisket With Caramelized Onions.html   \n",
       "1  Fresh Fig Cake With Honey Cream-Cheese Frostin...   \n",
       "2  Swiss Chard and Lamb Torte With Fennel-Pomegra...   \n",
       "\n",
       "                                                   1  \\\n",
       "0  This is a classic brisket recipe with no bells...   \n",
       "1  This dense and deeply figgy cake, adapted from...   \n",
       "2  Festive dishes in Israel and throughout the Mi...   \n",
       "\n",
       "                                                   2                  3  \n",
       "0       Classic Beef Brisket With Caramelized Onions    6 to 8 servings  \n",
       "1    Fresh Fig Cake With Honey Cream-Cheese Frosting        12 servings  \n",
       "2  Swiss Chard and Lamb Torte With Fennel-Pomegra...  10 to 12 servings  "
      ]
     },
     "execution_count": 18,
     "metadata": {},
     "output_type": "execute_result"
    }
   ],
   "source": [
    "df1"
   ]
  },
  {
   "cell_type": "code",
   "execution_count": null,
   "metadata": {
    "collapsed": true
   },
   "outputs": [],
   "source": []
  }
 ],
 "metadata": {
  "kernelspec": {
   "display_name": "Python 3",
   "language": "python",
   "name": "python3"
  },
  "language_info": {
   "codemirror_mode": {
    "name": "ipython",
    "version": 3
   },
   "file_extension": ".py",
   "mimetype": "text/x-python",
   "name": "python",
   "nbconvert_exporter": "python",
   "pygments_lexer": "ipython3",
   "version": "3.6.0"
  }
 },
 "nbformat": 4,
 "nbformat_minor": 2
}
