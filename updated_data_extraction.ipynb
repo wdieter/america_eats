{
 "cells": [
  {
   "cell_type": "code",
   "execution_count": 5,
   "metadata": {
    "collapsed": true
   },
   "outputs": [],
   "source": [
    "from bs4 import BeautifulSoup as bs\n",
    "import pandas as pd\n",
    "import os\n",
    "from collections import defaultdict\n",
    "import re\n",
    "import sqlite"
   ]
  },
  {
   "cell_type": "markdown",
   "metadata": {},
   "source": [
    "Plan: walk through files\n",
    "grab: title, ingredients(main), ingredients(detailed), old url, short description\n",
    "convert dict to df and then write to SQLlite instance\n",
    "\n",
    "TODO: \n",
    "get ingredients, instructions, \n"
   ]
  },
  {
   "cell_type": "code",
   "execution_count": 58,
   "metadata": {
    "scrolled": true
   },
   "outputs": [
    {
     "data": {
      "text/plain": [
       "'/Users/wolfiedieterich/Desktop/america_eats'"
      ]
     },
     "execution_count": 58,
     "metadata": {},
     "output_type": "execute_result"
    }
   ],
   "source": [
    "pwd"
   ]
  },
  {
   "cell_type": "code",
   "execution_count": 59,
   "metadata": {},
   "outputs": [
    {
     "name": "stdout",
     "output_type": "stream",
     "text": [
      "/Users/wolfiedieterich/Desktop/america_eats/old_html\n"
     ]
    }
   ],
   "source": [
    "cd old_html/"
   ]
  },
  {
   "cell_type": "code",
   "execution_count": 10,
   "metadata": {},
   "outputs": [],
   "source": [
    "with open(\"Classic Beef Brisket With Caramelized Onions.html\") as fo:\n",
    "    soup = bs(fo.read(), 'html.parser')"
   ]
  },
  {
   "cell_type": "code",
   "execution_count": 38,
   "metadata": {
    "collapsed": true
   },
   "outputs": [
    {
     "data": {
      "text/plain": [
       "<div class=\"grid-wrap\">\n",
       "<article class=\"card static noclickarea recipe-detail-card recipe-has-topnote recipe-has-media recipe-has-horizontal-media recipe-has-horizontal-media recipe-has-time-yield\" data-analytics-category=\"Recipe Detail Full\" data-id=\"1018922\" data-seo-image-url=\"https://static01.nyt.com/images/2017/09/13/dining/13ROSHRECIPE/13ROSHRECIPE-videoSixteenByNineJumbo1600.jpg\" data-type=\"recipe\" data-url=\"/recipes/1018922-swiss-chard-and-lamb-torte-with-fennel-pomegranate-relish\">\n",
       "<header>\n",
       "<div class=\"title-container\">\n",
       "<h1 class=\"recipe-title title name\" data-name=\"Swiss Chard and Lamb Torte With Fennel-Pomegranate Relish\" data-share-title=\"Swiss+Chard+and+Lamb+Torte+With+Fennel-Pomegranate+Relish+by+Joan+Nathan\" data-url=\"/recipes/1018922-swiss-chard-and-lamb-torte-with-fennel-pomegranate-relish\" itemprop=\"name\">\n",
       "          Swiss Chard and Lamb Torte With Fennel-Pomegranate Relish\n",
       "        </h1>\n",
       "</div>\n",
       "<div class=\"recipe-subhead\">\n",
       "<h3 class=\"byline \">\n",
       "<a class=\"author personality\" data-author=\"Joan Nathan\" href=\"/search?q=Joan+Nathan\">\n",
       "<span class=\"byline-name\" itemprop=\"author\">Joan Nathan</span>\n",
       "</a>\n",
       "</h3>\n",
       "<ul class=\"recipe-time-yield\">\n",
       "<li>\n",
       "<span class=\"recipe-yield-time-label recipe-yield\">Yield</span><span itemprop=\"recipeYield\">10 to 12 servings</span>\n",
       "</li>\n",
       "<li>\n",
       "<meta content=\"PT2H30M\" itemprop=\"cookTime\"/>\n",
       "<span class=\"recipe-yield-time-label recipe-time\">Time</span>2 1/2 hours\n",
       "              </li>\n",
       "</ul> <!-- /.recipe-time-yield -->\n",
       "</div> <!-- /.recipe-subhead -->\n",
       "<div class=\"controls detail-controls recipe-detail-controls primary\">\n",
       "<div class=\"save-group\">\n",
       "<div class=\"save-group-front\" data-regi-placement=\"bottom\">\n",
       "<span class=\"icon icon-save-white\"></span>\n",
       "      Save To Recipe Box\n",
       "    </div>\n",
       "<div class=\"save-organize-container\">\n",
       "<div class=\"save btn\" data-regi-placement=\"bottom\">\n",
       "<span class=\"icon icon-save-white\"></span>\n",
       "<span class=\"icon icon-save-white\"></span>\n",
       "<span class=\"recipe-save\">Save</span>\n",
       "<span class=\"recipe-saved\">Saved</span>\n",
       "</div>\n",
       "<div class=\"organize btn tooltip\" data-regi-placement=\"bottom\"><span class=\"icon icon-organize-white\">Add to a collection</span>\n",
       "<div class=\"add-to-collections tooltip-content\"></div>\n",
       "</div>\n",
       "</div>\n",
       "</div>\n",
       "<a class=\"print share-btn icon icon-bubble-print\" data-platform=\"Print\" href=\"javascript:window.print()\">Print this recipe</a>\n",
       "<div class=\"share-group share-bubbles recipe-details-share primary\">\n",
       "<a class=\"btn share-btn icon facebook icon-bubble-fb\" data-platform=\"Facebook\" data-role=\"share-button\" href=\"http://www.facebook.com/sharer/sharer.php?u=https://cooking.nytimes.com/recipes/1018922-swiss-chard-and-lamb-torte-with-fennel-pomegranate-relish\" target=\"_blank\">Share on Facebook</a><!--\n",
       "--><a class=\"btn share-btn icon pinterest icon-bubble-pinterest\" data-platform=\"Pinterest\" data-role=\"share-button\" href=\"http://www.pinterest.com/pin/create/button/?url=https://cooking.nytimes.com/recipes/1018922-swiss-chard-and-lamb-torte-with-fennel-pomegranate-relish&amp;description=NYT%20Cooking:%20Festive%20dishes%20in%20Israel%20and%20throughout%20the%20Middle%20East%20often%20include%20rice%20and%20lamb.%20This%20magnificent%20recipe,%20topped%20with%20a%20bright%20pomegranate%20and%20fennel%20relish,%20is%20the%20Israeli%20chef%20Erez%20Komarovsky's%20twist%20on%20an%20ancient,%20labor-intensive%20classic%20of%20individual%20stuffed%20chard,%20cabbage%20or%20grape%20leaves,%20symbolizing%20the%20plenty%20of%20the%20fall%20harvest.%20It%20is%20perfect%20for%20Rosh%20Hashana%20or%20an...&amp;media=https://static01.nyt.com/images/2017/09/13/dining/13ROSHRECIPE/13ROSHRECIPE-verticalTwoByThree735.jpg\" target=\"_blank\">Share on Pinterest</a><!--\n",
       "--><a class=\"btn share-btn icon twitter icon-bubble-twitter\" data-platform=\"Twitter\" data-role=\"share-button\" href=\"http://twitter.com/intent/tweet?text=Swiss%20Chard%20and%20Lamb%20Torte%20With%20Fennel-Pomegranate%20Relish&amp;url=https://cooking.nytimes.com/recipes/1018922-swiss-chard-and-lamb-torte-with-fennel-pomegranate-relish&amp;hashtags=NYTCooking\" target=\"_blank\">Share on Twitter</a><!--\n",
       "--><a class=\"btn share-btn icon email icon-bubble-email\" data-platform=\"Email\" data-role=\"share-button\" href=\"mailto:?subject=NYT%20Cooking:%20Swiss%20Chard%20and%20Lamb%20Torte%20With%20Fennel-Pomegranate%20Relish&amp;body=NYT%20Cooking:%20Swiss%20Chard%20and%20Lamb%20Torte%20With%20Fennel-Pomegranate%20Relish%0A%0Ahttps://cooking.nytimes.com/recipes/1018922-swiss-chard-and-lamb-torte-with-fennel-pomegranate-relish%3Futm_source%3Dsharetools%26utm_medium%3Demail%26utm_campaign%3Dwebsite\" target=\"_blank\">Email</a>\n",
       "</div> <!-- /.share-group -->\n",
       "</div>\n",
       "</header>\n",
       "<div class=\"recipe-intro\">\n",
       "<div class=\"media-container \">\n",
       "<img data-pin-media=\"https://static01.nyt.com/images/2017/09/13/dining/13ROSHRECIPE/13ROSHRECIPE-verticalTwoByThree735.jpg\" itemprop=\"image\" src=\"../images/Swiss Chard and Lamb Torte With Fennel-Pomegranate Relish.jpg\"/>\n",
       "<p class=\"image-credit\">\n",
       "                    Gabriela Herman for The New York Times\n",
       "                  </p>\n",
       "</div> <!-- /.media-container -->\n",
       "<div class=\"recipe-topnote-metadata\">\n",
       "<div class=\"topnote\" itemprop=\"description\">\n",
       "<p>Festive dishes in Israel and throughout the Middle East often include rice and lamb. This magnificent recipe, topped with a bright pomegranate and fennel relish, is the Israeli chef Erez Komarovsky's twist on an ancient, labor-intensive classic of individual stuffed chard, cabbage or grape leaves, symbolizing the plenty of the fall harvest. It is perfect for Rosh Hashana or any seasonal holiday gathering. Make it with blanched Swiss chard, grape leaves or even cabbage or kale as the outer crust, and assemble it a day in advance. Then bake it and revel in the heightened flavors from the cardamom, cinnamon, fennel and mint; the crunch of pistachio; and the slight kick you get from the Mexican Serrano pepper now planted in Israel.</p>\n",
       "<p class=\"related-article\">\n",
       "<span class=\"label\">Featured in: </span>\n",
       "<a href=\"https://www.nytimes.com/2017/09/08/dining/israel-cuisine-erez-komarovsky.html\">An Israeli Chef Looks To The Landscape</a>. \n",
       "  </p> <!-- /.related-article -->\n",
       "</div> <!-- /.topnote -->\n",
       "<div class=\"show-more-topnote\" id=\"showMoreTopNote\">More +</div>\n",
       "</div> <!-- /.recipe-topnote-metadata -->\n",
       "</div> <!-- /.intro -->\n",
       "<div class=\"recipe-metadata\">\n",
       "<div class=\"tags-nutrition-container\">\n",
       "<p class=\"special-diets tag-block\">\n",
       "<a href=\"/tag/jewish\" id=\"jewish-tag\">Jewish</a>,\n",
       "                      <a href=\"/tag/middle%20eastern\" id=\"middle eastern-tag\">Middle Eastern</a>,\n",
       "                      <a href=\"/tag/fennel\" id=\"fennel-tag\">Fennel</a>,\n",
       "                      <a href=\"/tag/lamb\" id=\"lamb-tag\">Lamb</a>,\n",
       "                      <a href=\"/tag/mint\" id=\"mint-tag\">Mint</a>,\n",
       "                      <a href=\"/tag/pomegranate\" id=\"pomegranate-tag\">Pomegranate</a>,\n",
       "                      <a href=\"/tag/rice\" id=\"rice-tag\">Rice</a>,\n",
       "                      <a href=\"/tag/serrano%20chile%20pepper\" id=\"serrano chile pepper-tag\">Serrano Chile Pepper</a>,\n",
       "                      <a href=\"/tag/swiss%20chard\" id=\"swiss chard-tag\">Swiss Chard</a>\n",
       "</p>\n",
       "</div> <!-- /.tags-nutrition-container -->\n",
       "<div class=\"recipe-actions\">\n",
       "<div id=\"recipe-cooked\"></div>\n",
       "<div class=\"no-touch-header\" id=\"recipe-ratings\">\n",
       "</div> <!-- /#recipe-ratings -->\n",
       "<div itemprop=\"aggregateRating\" itemscope=\"\" itemtype=\"http://schema.org/AggregateRating\">\n",
       "<span class=\"ratings-metadata\">\n",
       "<span itemprop=\"ratingValue\">4</span>\n",
       "<span itemprop=\"ratingCount\">11</span>\n",
       "</span>\n",
       "</div>\n",
       "</div> <!-- /#recipe-actions -->\n",
       "</div> <!-- /.recipe-metadata -->\n",
       "<section class=\"recipe-details-top-desktop ad-container collapsed \" id=\"recipeDetails-recipe-details-top-desktop-ad\">\n",
       "<div class=\"ad-unit\" id=\"div-gpt-ad-804752003747430782-recipe-details-top-desktop\">\n",
       "<script>\n",
       "      window.googletag.cmd.push(function() {\n",
       "        window.googletag.display('div-gpt-ad-804752003747430782-recipe-details-top-desktop');\n",
       "      });\n",
       "    </script>\n",
       "</div>\n",
       "</section>\n",
       "<section class=\"recipe-details-top-tablet ad-container collapsed \" id=\"recipeDetails-recipe-details-top-tablet-ad\">\n",
       "<div class=\"ad-unit\" id=\"div-gpt-ad-804752003747430782-recipe-details-top-tablet\">\n",
       "<script>\n",
       "      window.googletag.cmd.push(function() {\n",
       "        window.googletag.display('div-gpt-ad-804752003747430782-recipe-details-top-tablet');\n",
       "      });\n",
       "    </script>\n",
       "</div>\n",
       "</section>\n",
       "<section class=\"top-mobile ad-container collapsed \" id=\"recipeDetails-top-mobile-ad\">\n",
       "<div class=\"ad-unit\" id=\"div-gpt-ad-804752003747430782-top-mobile\">\n",
       "<script>\n",
       "      window.googletag.cmd.push(function() {\n",
       "        window.googletag.display('div-gpt-ad-804752003747430782-top-mobile');\n",
       "      });\n",
       "    </script>\n",
       "</div>\n",
       "</section>\n",
       "<div class=\"recipe-instructions\">\n",
       "<section class=\"recipe-ingredients-wrap\">\n",
       "<h3>Ingredients</h3>\n",
       "<h4 class=\"part-name\">For the torte:</h4>\n",
       "<ul class=\"recipe-ingredients\">\n",
       "<li itemprop=\"recipeIngredient\">\n",
       "<span class=\"quantity\">2 ⅓</span>\n",
       "<span class=\"ingredient-name\">cups medium-grain or sushi <span>rice</span> (1 pound)</span>\n",
       "</li>\n",
       "<li itemprop=\"recipeIngredient\">\n",
       "<span class=\"quantity\"></span>\n",
       "<span class=\"ingredient-name\">About 10 to 12 large green <span>Swiss chard</span> leaves (from 1 to 2 bunches)</span>\n",
       "</li>\n",
       "<li itemprop=\"recipeIngredient\">\n",
       "<span class=\"quantity\">½</span>\n",
       "<span class=\"ingredient-name\">cup plus 1 tablespoon <span>olive oil</span></span>\n",
       "</li>\n",
       "<li itemprop=\"recipeIngredient\">\n",
       "<span class=\"quantity\">2</span>\n",
       "<span class=\"ingredient-name\">medium <span>onions</span>, finely chopped</span>\n",
       "</li>\n",
       "<li itemprop=\"recipeIngredient\">\n",
       "<span class=\"quantity\">1</span>\n",
       "<span class=\"ingredient-name\">pound ground <span>lamb</span></span>\n",
       "</li>\n",
       "<li itemprop=\"recipeIngredient\">\n",
       "<span class=\"quantity\">¾</span>\n",
       "<span class=\"ingredient-name\">cup roasted shelled <span>pistachios</span></span>\n",
       "</li>\n",
       "<li itemprop=\"recipeIngredient\">\n",
       "<span class=\"quantity\">1</span>\n",
       "<span class=\"ingredient-name\">tablespoon kosher or coarse sea <span>salt</span></span>\n",
       "</li>\n",
       "<li itemprop=\"recipeIngredient\">\n",
       "<span class=\"quantity\">2 ¼</span>\n",
       "<span class=\"ingredient-name\">teaspoons ground <span>black pepper</span></span>\n",
       "</li>\n",
       "<li itemprop=\"recipeIngredient\">\n",
       "<span class=\"quantity\">1</span>\n",
       "<span class=\"ingredient-name\">teaspoon <span>cinnamon</span></span>\n",
       "</li>\n",
       "<li itemprop=\"recipeIngredient\">\n",
       "<span class=\"quantity\">1</span>\n",
       "<span class=\"ingredient-name\">teaspoon ground <span>cardamom</span></span>\n",
       "</li>\n",
       "<li itemprop=\"recipeIngredient\">\n",
       "<span class=\"quantity\">1</span>\n",
       "<span class=\"ingredient-name\">tablespoon <span>fennel seeds</span></span>\n",
       "</li>\n",
       "<li itemprop=\"recipeIngredient\">\n",
       "<span class=\"quantity\">½</span>\n",
       "<span class=\"ingredient-name\">cup chopped <span>mint leaves</span></span>\n",
       "</li>\n",
       "<li itemprop=\"recipeIngredient\">\n",
       "<span class=\"quantity\">4</span>\n",
       "<span class=\"ingredient-name\">cups <span>chicken stock</span></span>\n",
       "</li>\n",
       "</ul>\n",
       "<h4 class=\"part-name\">For the chopped fennel, pomegranate and mint relish:</h4>\n",
       "<ul class=\"recipe-ingredients\">\n",
       "<li itemprop=\"recipeIngredient\">\n",
       "<span class=\"quantity\">2</span>\n",
       "<span class=\"ingredient-name\"><span>fennel</span> bulbs, roughly chopped (reserve fronds for decorating torte)</span>\n",
       "</li>\n",
       "<li itemprop=\"recipeIngredient\">\n",
       "<span class=\"quantity\">1</span>\n",
       "<span class=\"ingredient-name\"><span>Serrano chile pepper</span></span>\n",
       "</li>\n",
       "<li itemprop=\"recipeIngredient\">\n",
       "<span class=\"quantity\"></span>\n",
       "<span class=\"ingredient-name\">Juice of 2 freshly squeezed <span>lemons</span> (about 6 tablespoons)</span>\n",
       "</li>\n",
       "<li itemprop=\"recipeIngredient\">\n",
       "<span class=\"quantity\">4</span>\n",
       "<span class=\"ingredient-name\">tablespoons <span>pomegranate syrup</span></span>\n",
       "</li>\n",
       "<li itemprop=\"recipeIngredient\">\n",
       "<span class=\"quantity\">2</span>\n",
       "<span class=\"ingredient-name\">cups <span>pomegranate seeds</span></span>\n",
       "</li>\n",
       "<li itemprop=\"recipeIngredient\">\n",
       "<span class=\"quantity\"></span>\n",
       "<span class=\"ingredient-name\">Kosher or coarse sea <span>salt</span>, to taste</span>\n",
       "</li>\n",
       "<li itemprop=\"recipeIngredient\">\n",
       "<span class=\"quantity\">⅓</span>\n",
       "<span class=\"ingredient-name\">cup extra-virgin <span>olive oil</span></span>\n",
       "</li>\n",
       "<li itemprop=\"recipeIngredient\">\n",
       "<span class=\"quantity\">1</span>\n",
       "<span class=\"ingredient-name\">cup fresh <span>mint leaves</span>, chopped</span>\n",
       "</li>\n",
       "</ul>\n",
       "<ul class=\"recipe-ingredients\">\n",
       "<li>\n",
       "<div class=\"nutrition-container\">\n",
       "<div class=\"quantity\"><span class=\"icon-nutritional-info\"></span></div>\n",
       "<div class=\"ingredient-name\"><span class=\"nutrition-label\">Nutritional Information</span></div>\n",
       "<div class=\"nutrition-tooltip\">\n",
       "<ul>\n",
       "<li>\n",
       "<h5 class=\"header\">Nutritional analysis per serving (10 servings)</h5>\n",
       "<span class=\"description\" itemprop=\"nutrition\" itemscope=\"\" itemtype=\"http://schema.org/NutritionInformation\">\n",
       "<span itemprop=\"calories\">647</span> calories; <span itemprop=\"fatContent\">36 grams</span> fat; <span itemprop=\"saturatedFatContent\">8 grams</span> saturated fat; 21 grams monounsaturated fat; 4 grams polyunsaturated fat; <span itemprop=\"carbohydrateContent\">64 grams</span> carbohydrates; <span itemprop=\"fiberContent\">6 grams</span> dietary fiber; 14 grams sugars; <span itemprop=\"proteinContent\">18 grams</span> protein; <span itemprop=\"cholesterolContent\">35 milligrams</span> cholesterol; <span itemprop=\"sodiumContent\">911 milligrams</span> sodium\n",
       "                          </span>\n",
       "</li>\n",
       "<div class=\"nutrition-note\">\n",
       "<span class=\"nutrition-note-label\">Note:</span>\n",
       "<span class=\"nutrition-note-description\">\n",
       "                              The information shown is Edamam’s estimate based on available ingredients and preparation. It should not be considered a substitute for a professional nutritionist’s advice.\n",
       "                            </span>\n",
       "</div>\n",
       "<div class=\"nutrition-attribution\">\n",
       "<a href=\"https://www.edamam.com/website/wizard.jsp\" target=\"_blank\">Powered by <span class=\"icon icon-nutrition-source\">Edamam</span></a>\n",
       "</div>\n",
       "</ul>\n",
       "</div>\n",
       "</div>\n",
       "</li>\n",
       "</ul>\n",
       "</section> <!-- /.recipe-ingredients -->\n",
       "<section class=\"recipe-steps-wrap\">\n",
       "<h3>Preparation</h3>\n",
       "<ol class=\"recipe-steps\" itemprop=\"recipeInstructions\">\n",
       "<li>Prepare the torte: Place rice in a heat-proof bowl. Bring 3 cups water to a boil, pour over rice, and let stand uncovered for 30 minutes.</li>\n",
       "<li>Meanwhile, bring a large pot of water to a boil, and prepare an ice bath in a large bowl with ice cubes and cold water. Separate the bottom stems from the leaves of the Swiss chard, dicing the stems and setting aside. Blanch the leaves, in batches if necessary, by placing them in the boiling water for 20 seconds, then use tongs to transfer them to the ice bath. Drain the leaves and spread them out to dry in a single layer on paper towels.</li>\n",
       "<li>Heat a large pan over medium-high heat, add 1/4 cup olive oil and sauté onions and chopped chard stems, about 10 minutes, until soft and starting to brown. Remove from heat and set aside to cool slightly.</li>\n",
       "<li>Drain the rice and pour it into a large bowl. Add lamb, sautéed onion and chard stalks, pistachios, salt, pepper, cinnamon, cardamom, fennel seeds, mint leaves and 1/4 cup olive oil and mix thoroughly.</li>\n",
       "<li>Heat oven to 350 degrees. Take a round Dutch oven or other heavy 10-inch round pot with a lid and coat it with the remaining tablespoon of olive oil. Line the pot with a layer of the Swiss chard leaves, with the bottom ends of the leaves protruding from the pot. (Ideally you'd have at least a 3-inch overhang.) Place the rice-meat stuffing in the pot and fold the overhanging leaves over the top of the filling. If necessary, layer additional leaves on top to completely enclose the filling.</li>\n",
       "<li>Place chicken stock in a small pan over high heat; when it's hot, pour it over the torte. Cover the pot and transfer to oven. Let torte bake for 30 minutes, then lower the oven temperature to 275 degrees and continue cooking for about 1 hour more, or until rice is cooked and most of the liquid has been absorbed. (You can carefully peel away a leaf to check the rice, replacing it after you’ve tasted.)</li>\n",
       "<li>Meanwhile, prepare the relish: Using a food processor, pulse fennel bulbs and Serrano pepper until finely chopped, being careful not to overprocess. Turn fennel and chile mixture out into a medium bowl and add lemon juice, pomegranate syrup, pomegranate seeds and salt and mix to combine. Stir in olive oil and adjust salt to taste. Just before serving, mix in the mint leaves.</li>\n",
       "<li>When torte is done baking, remove it from the oven and let it sit for a few minutes, covered. Run a sharp knife around the edge of the torte; cover with a flat, round serving platter; and invert the pot to remove the torte. Serve decorated with fennel fronds and garnished with fennel, pomegranate and mint relish.</li>\n",
       "</ol>\n",
       "<div id=\"module-recipe-cooked\"></div>\n",
       "<div class=\"recipe-user-notes collapsed-state hidden\"></div>\n",
       "<div class=\"secondary-controls\">\n",
       "<span class=\"header\">Like this recipe?</span>\n",
       "<div class=\"controls detail-controls recipe-detail-controls\">\n",
       "<div class=\"save-group\">\n",
       "<div class=\"save-group-front\" data-regi-placement=\"bottom\">\n",
       "<span class=\"icon icon-save-white\"></span>\n",
       "      Save To Recipe Box\n",
       "    </div>\n",
       "<div class=\"save-organize-container\">\n",
       "<div class=\"save btn\" data-regi-placement=\"bottom\">\n",
       "<span class=\"icon icon-save-white\"></span>\n",
       "<span class=\"icon icon-save-white\"></span>\n",
       "<span class=\"recipe-save\">Save</span>\n",
       "<span class=\"recipe-saved\">Saved</span>\n",
       "</div>\n",
       "<div class=\"organize btn tooltip\" data-regi-placement=\"bottom\"><span class=\"icon icon-organize-white\">Add to a collection</span>\n",
       "<div class=\"add-to-collections tooltip-content\"></div>\n",
       "</div>\n",
       "</div>\n",
       "</div>\n",
       "<a class=\"print share-btn icon icon-bubble-print\" data-platform=\"Print\" href=\"javascript:window.print()\">Print this recipe</a>\n",
       "<div class=\"share-group share-bubbles recipe-details-share\">\n",
       "<a class=\"btn share-btn icon facebook icon-bubble-fb\" data-platform=\"Facebook\" data-role=\"share-button\" href=\"http://www.facebook.com/sharer/sharer.php?u=https://cooking.nytimes.com/recipes/1018922-swiss-chard-and-lamb-torte-with-fennel-pomegranate-relish\" target=\"_blank\">Share on Facebook</a><!--\n",
       "--><a class=\"btn share-btn icon pinterest icon-bubble-pinterest\" data-platform=\"Pinterest\" data-role=\"share-button\" href=\"http://www.pinterest.com/pin/create/button/?url=https://cooking.nytimes.com/recipes/1018922-swiss-chard-and-lamb-torte-with-fennel-pomegranate-relish&amp;description=NYT%20Cooking:%20Festive%20dishes%20in%20Israel%20and%20throughout%20the%20Middle%20East%20often%20include%20rice%20and%20lamb.%20This%20magnificent%20recipe,%20topped%20with%20a%20bright%20pomegranate%20and%20fennel%20relish,%20is%20the%20Israeli%20chef%20Erez%20Komarovsky's%20twist%20on%20an%20ancient,%20labor-intensive%20classic%20of%20individual%20stuffed%20chard,%20cabbage%20or%20grape%20leaves,%20symbolizing%20the%20plenty%20of%20the%20fall%20harvest.%20It%20is%20perfect%20for%20Rosh%20Hashana%20or%20an...&amp;media=https://static01.nyt.com/images/2017/09/13/dining/13ROSHRECIPE/13ROSHRECIPE-verticalTwoByThree735.jpg\" target=\"_blank\">Share on Pinterest</a><!--\n",
       "--><a class=\"btn share-btn icon twitter icon-bubble-twitter\" data-platform=\"Twitter\" data-role=\"share-button\" href=\"http://twitter.com/intent/tweet?text=Swiss%20Chard%20and%20Lamb%20Torte%20With%20Fennel-Pomegranate%20Relish&amp;url=https://cooking.nytimes.com/recipes/1018922-swiss-chard-and-lamb-torte-with-fennel-pomegranate-relish&amp;hashtags=NYTCooking\" target=\"_blank\">Share on Twitter</a><!--\n",
       "--><a class=\"btn share-btn icon email icon-bubble-email\" data-platform=\"Email\" data-role=\"share-button\" href=\"mailto:?subject=NYT%20Cooking:%20Swiss%20Chard%20and%20Lamb%20Torte%20With%20Fennel-Pomegranate%20Relish&amp;body=NYT%20Cooking:%20Swiss%20Chard%20and%20Lamb%20Torte%20With%20Fennel-Pomegranate%20Relish%0A%0Ahttps://cooking.nytimes.com/recipes/1018922-swiss-chard-and-lamb-torte-with-fennel-pomegranate-relish%3Futm_source%3Dsharetools%26utm_medium%3Demail%26utm_campaign%3Dwebsite\" target=\"_blank\">Email</a>\n",
       "</div> <!-- /.share-group -->\n",
       "</div>\n",
       "</div>\n",
       "</section> <!-- /.recipe-steps -->\n",
       "</div> <!-- /.recipe-instructions -->\n",
       "<footer class=\"recipe-attribution-related\">\n",
       "<p class=\"recipe-attribution\">Adapted From Erez Komarovsky</p>\n",
       "</footer>\n",
       "</article> <!-- /.card.static.noclickarea -->\n",
       "</div>"
      ]
     },
     "execution_count": 38,
     "metadata": {},
     "output_type": "execute_result"
    }
   ],
   "source": [
    "soup"
   ]
  },
  {
   "cell_type": "code",
   "execution_count": 13,
   "metadata": {},
   "outputs": [],
   "source": [
    "def get_instructions(soup):\n",
    "    l = [i.get_text().replace('Â', '') for i in soup.find(class_='recipe-steps').find_all('li')]\n",
    "    try:\n",
    "        l.extend([i.get_text().replace('Â', '') for i in soup.find(class_='recipe-notes').find_all('li')])\n",
    "    except AttributeError as e:\n",
    "        pass\n",
    "    return l"
   ]
  },
  {
   "cell_type": "code",
   "execution_count": 14,
   "metadata": {},
   "outputs": [],
   "source": [
    "def get_ingredients(soup): \n",
    "    ingredients = soup.find_all(itemprop='recipeIngredient')\n",
    "    l = []\n",
    "    for i in ingredients:\n",
    "        l.append((i.find(class_='quantity').text.replace('Â',''), i.find(class_='ingredient-name').text))\n",
    "    return l"
   ]
  },
  {
   "cell_type": "code",
   "execution_count": 15,
   "metadata": {
    "collapsed": true
   },
   "outputs": [
    {
     "data": {
      "text/plain": [
       "[('3', 'tablespoons kosher salt'),\n",
       " ('½', 'teaspoon black pepper'),\n",
       " ('1', 'teaspoon paprika (preferably Hungarian)'),\n",
       " ('', 'Pinch of cayenne'),\n",
       " ('5 to 7', 'pounds beef brisket, not too lean'),\n",
       " ('1', 'cup red or white wine'),\n",
       " ('12', 'cloves'),\n",
       " ('1', 'whole head of garlic'),\n",
       " ('3', 'bay leaves'),\n",
       " ('3', 'allspice berries'),\n",
       " ('6', 'large onions, peeled, and sliced crosswise 1/4-inch thick'),\n",
       " ('3', 'tablespoons olive oil'),\n",
       " ('', 'Parsley sprigs, for garnish'),\n",
       " ('¼', 'cup slivered scallions (optional)')]"
      ]
     },
     "execution_count": 15,
     "metadata": {},
     "output_type": "execute_result"
    }
   ],
   "source": [
    "get_ingredients(soup)"
   ]
  },
  {
   "cell_type": "code",
   "execution_count": 27,
   "metadata": {},
   "outputs": [],
   "source": [
    "def get_desc_tags(soup):\n",
    "    l = []\n",
    "    for i, child in enumerate(soup.find(class_='special-diets tag-block').children):\n",
    "        contents = child.string.rstrip().lstrip()\n",
    "        if re.search('[a-zA-Z]', child.string):\n",
    "            l.append(child.string.rstrip().lstrip())\n",
    "    return tuple(l)"
   ]
  },
  {
   "cell_type": "code",
   "execution_count": 30,
   "metadata": {
    "collapsed": true
   },
   "outputs": [],
   "source": [
    "file_list = [file for file in os.listdir() if '.html' in file]"
   ]
  },
  {
   "cell_type": "code",
   "execution_count": 31,
   "metadata": {},
   "outputs": [
    {
     "data": {
      "text/plain": [
       "['Classic Beef Brisket With Caramelized Onions.html',\n",
       " 'Fresh Fig Cake With Honey Cream-Cheese Frosting.html',\n",
       " 'Swiss Chard and Lamb Torte With Fennel-Pomegranate Relish.html']"
      ]
     },
     "execution_count": 31,
     "metadata": {},
     "output_type": "execute_result"
    }
   ],
   "source": [
    "file_list"
   ]
  },
  {
   "cell_type": "code",
   "execution_count": 74,
   "metadata": {},
   "outputs": [],
   "source": [
    "d = defaultdict(dict)\n",
    "for file in file_list:\n",
    "    with open(file, 'r') as fo:\n",
    "        soup = bs(fo.read(), 'html.parser')\n",
    "        d[file]['h1'] = soup.h1.get_text().lstrip().rstrip()\n",
    "        d[file]['desc_tags'] = str(get_desc_tags(soup))\n",
    "        d[file]['ingredients'] = str(get_ingredients(soup))\n",
    "        d[file]['instructions'] = str(get_instructions(soup))\n",
    "        d[file]['yield'] = soup.find(itemprop='recipeYield').get_text()\n",
    "        d[file]['description'] = soup.find(itemprop='description').p.get_text()"
   ]
  },
  {
   "cell_type": "code",
   "execution_count": 75,
   "metadata": {},
   "outputs": [
    {
     "data": {
      "text/plain": [
       "defaultdict(dict,\n",
       "            {'Classic Beef Brisket With Caramelized Onions.html': {'desc_tags': \"('Jewish', 'Allspice', 'Beef Brisket', 'Onion')\",\n",
       "              'description': 'This is a classic brisket recipe with no bells and whistles, just deep flavor, moist succulent meat and lots of caramelized onions. The only caveat: Buy a brisket that’s not too lean. You want it well-marbled with fat or the result will be dry, not juicy.',\n",
       "              'h1': 'Classic Beef Brisket With Caramelized Onions',\n",
       "              'ingredients': \"[('3', 'tablespoons kosher salt'), ('½', 'teaspoon black pepper'), ('1', 'teaspoon paprika (preferably Hungarian)'), ('', 'Pinch of cayenne'), ('5 to 7', 'pounds beef brisket, not too lean'), ('1', 'cup red or white wine'), ('12', 'cloves'), ('1', 'whole head of garlic'), ('3', 'bay leaves'), ('3', 'allspice berries'), ('6', 'large onions, peeled, and sliced crosswise 1/4-inch thick'), ('3', 'tablespoons olive oil'), ('', 'Parsley sprigs, for garnish'), ('¼', 'cup slivered scallions (optional)')]\",\n",
       "              'instructions': \"['In a small bowl, mix together salt, pepper, paprika and cayenne. Season brisket generously on all sides with salt mixture. (Use about 2 tablespoons and reserve remaining mixture.) If possible, wrap and refrigerate several hours or overnight, then bring to room temperature.', 'Heat oven to 300 degrees. Place brisket in a shallow roasting pan or earthenware baking dish. Pour wine and 2 cups water over the brisket, then add cloves, garlic, bay leaves and allspice berries.', 'Scatter about 1/3 of the sliced onions over brisket. Cover with foil or a tight-fitting lid. Place in oven and bake for about 3 hours or until meat is quite tender when probed with a fork. (Be careful not to overcook; you want slices, not shreds.)', 'Meanwhile, place a large skillet over high heat and add olive oil. Add remaining onions and season with remaining salt mixture. As onions begin to brown, reduce heat to medium. Cook, uncovered, turning onion slices with a spatula every few minutes until caramelized and fork-tender, about\\\\xa015 to 20\\\\xa0minutes.\\\\xa0Add 1/2 cup water to onions and simmer\\\\xa0a few minutes\\\\xa0more. (For\\\\xa0more flavor, use broth from the brisket pan instead.)\\\\xa0Onions may be prepared in advance and reheated.', 'To serve, transfer brisket to a cutting board. Trim extraneous fat from meat. With a large knife, cut meat across the grain into 1/4-inch slices. Strain braising liquid into a saucepan (discard solids left in strainer) and skim any rising fat from surface.', 'Arrange sliced meat on a platter. Cover with caramelized onions and ladle some hot braising liquid over. Garnish with parsley sprigs and sprinkle with scallions, if using. Serve remaining juices separately.', '\\\\nFor ease of serving (and increased flavor) prepare the brisket a day in advance, cover with braising juices and refrigerate. Next day, lift the lid off and discard congealed fat. Reheat, covered, in a 350-degree oven for about 1 hour.\\\\n']\",\n",
       "              'yield': '6 to 8 servings'},\n",
       "             'Fresh Fig Cake With Honey Cream-Cheese Frosting.html': {'desc_tags': \"('Cream Cheese', 'Fig', 'Honey', 'Jam')\",\n",
       "              'description': \"This dense and deeply figgy cake, adapted from Eli's Table in Manhattan, gets its complex flavor from a combination of fresh figs and fig jam, seasoned generously with cinnamon, cardamom and ginger. It’s then filled and topped with cream cheese frosting that is sweetened with a combination of confectioners’ sugar for lightness and honey for richness. Over all, it’s a bit like carrot cake, except softer and sweeter. You can make the cake two to three days ahead and store it, well wrapped or under a cake dome, in the refrigerator. It gets even moister as it sits. If you can’t get fresh figs, chopped peeled apple works nicely as a substitute.\",\n",
       "              'h1': 'Fresh Fig Cake With Honey Cream-Cheese Frosting',\n",
       "              'ingredients': \"[('', 'Butter, for greasing the pan'), ('3', 'cups/384 grams all-purpose flour, more for flouring the pan'), ('1', 'teaspoon ground cinnamon'), ('½', 'teaspoon ground ginger'), ('½', 'teaspoon ground cardamom'), ('¾', 'teaspoon baking soda'), ('½', 'teaspoon fine sea salt'), ('1 ½', 'cups/300 grams granulated sugar'), ('4', 'large eggs'), ('¾', 'cup extra-virgin olive oil'), ('2', 'tablespoons buttermilk or plain yogurt'), ('¾', 'cup/116 grams chopped fresh figs (3 to 4 figs)'), ('¾', 'cup/225 grams fig jam'), ('¾', 'cup/85 grams chopped pecans or walnuts'), ('12', 'tablespoons/180 grams unsalted butter (1 1/2 sticks), softened'), ('2', 'cups/16 ounces/454 grams cream cheese, softened'), ('¼', 'teaspoon fine sea salt'), ('3', 'tablespoons/60 grams honey'), ('1', 'teaspoon vanilla extract'), ('3 ⅔', 'cups/450 grams confectioners’ sugar'), ('1', 'cup sliced fresh figs (about 5 figs)')]\",\n",
       "              'instructions': \"['Make the cake: Heat oven to 325 degrees. Butter and flour a 10-inch cake pan (or two 9-inch pans), and line the bottom with parchment paper.', 'In a large bowl, whisk together flour, cinnamon, ginger, cardamom, baking soda and salt.', 'Using an electric mixer, whisk to combine sugar and eggs until light and fluffy, about 4 minutes. Whisk in oil and buttermilk or yogurt to combine.', 'Using a rubber spatula, gently fold dry ingredients into egg mixture just until combined. Fold in figs, jam and pecans.', 'Scrape into prepared cake pan and bake until browned and springy to the touch, about 65 to 75 minutes (or 35 to 45 minutes for the 9-inch pans). If the top gets too dark before the cake is finished baking, cover it with foil. Transfer to a wire rack and let cool completely.', 'While cake is cooling, make the frosting: Using an electric mixer, beat butter, cream cheese and salt on low speed until smooth. Beat in honey and vanilla, then beat in confectioners’ sugar.', 'To assemble the cake, remove cooled cake from pan and peel off parchment paper. Slice cake in half horizontally, so you end up with 2 layers. (You don’t need to do this for the 9-inch cakes.) Spread half the frosting between the layers, sandwiching it. Dollop remaining frosting in a thick layer on top of the cake, leaving a 1-inch border on the top of the cake, the sides, bare. Chill until ready to serve. Just before serving, top with sliced figs.']\",\n",
       "              'yield': '12 servings'},\n",
       "             'Swiss Chard and Lamb Torte With Fennel-Pomegranate Relish.html': {'desc_tags': \"('Jewish', 'Middle Eastern', 'Fennel', 'Lamb', 'Mint', 'Pomegranate', 'Rice', 'Serrano Chile Pepper', 'Swiss Chard')\",\n",
       "              'description': \"Festive dishes in Israel and throughout the Middle East often include rice and lamb. This magnificent recipe, topped with a bright pomegranate and fennel relish, is the Israeli chef Erez Komarovsky's twist on an ancient, labor-intensive classic of individual stuffed chard, cabbage or grape leaves, symbolizing the plenty of the fall harvest. It is perfect for Rosh Hashana or any seasonal holiday gathering. Make it with blanched Swiss chard, grape leaves or even cabbage or kale as the outer crust, and assemble it a day in advance. Then bake it and revel in the heightened flavors from the cardamom, cinnamon, fennel and mint; the crunch of pistachio; and the slight kick you get from the Mexican Serrano pepper now planted in Israel.\",\n",
       "              'h1': 'Swiss Chard and Lamb Torte With Fennel-Pomegranate Relish',\n",
       "              'ingredients': \"[('2 ⅓', 'cups medium-grain or sushi rice (1 pound)'), ('', 'About 10 to 12 large green Swiss chard leaves (from 1 to 2 bunches)'), ('½', 'cup plus 1 tablespoon olive oil'), ('2', 'medium onions, finely chopped'), ('1', 'pound ground lamb'), ('¾', 'cup roasted shelled pistachios'), ('1', 'tablespoon kosher or coarse sea salt'), ('2 ¼', 'teaspoons ground black pepper'), ('1', 'teaspoon cinnamon'), ('1', 'teaspoon ground cardamom'), ('1', 'tablespoon fennel seeds'), ('½', 'cup chopped mint leaves'), ('4', 'cups chicken stock'), ('2', 'fennel bulbs, roughly chopped (reserve fronds for decorating torte)'), ('1', 'Serrano chile pepper'), ('', 'Juice of 2 freshly squeezed lemons (about 6 tablespoons)'), ('4', 'tablespoons pomegranate syrup'), ('2', 'cups pomegranate seeds'), ('', 'Kosher or coarse sea salt, to taste'), ('⅓', 'cup extra-virgin olive oil'), ('1', 'cup fresh mint leaves, chopped')]\",\n",
       "              'instructions': '[\\'Prepare the torte: Place rice in a heat-proof bowl. Bring 3 cups water to a boil, pour over rice, and let stand uncovered for 30 minutes.\\', \\'Meanwhile, bring a large pot of water to a boil, and prepare an ice bath in a large bowl with ice cubes and cold water. Separate the bottom stems from the leaves of the Swiss chard, dicing the stems and setting aside. Blanch the leaves, in batches if necessary, by placing them in the boiling water for 20 seconds, then use tongs to transfer them to the ice bath. Drain the leaves and spread them out to dry in a single layer on paper towels.\\', \\'Heat a large pan over medium-high heat, add 1/4 cup olive oil and sauté onions and chopped chard stems, about 10 minutes, until soft and starting to brown. Remove from heat and set aside to cool slightly.\\', \\'Drain the rice and pour it into a large bowl. Add lamb, sautéed onion and chard stalks, pistachios, salt, pepper, cinnamon, cardamom, fennel seeds, mint leaves and 1/4 cup olive oil and mix thoroughly.\\', \"Heat oven to 350 degrees. Take a round Dutch oven or other heavy 10-inch round pot with a lid and coat it with the remaining tablespoon of olive oil. Line the pot with a layer of the Swiss chard leaves, with the bottom ends of the leaves protruding from the pot. (Ideally you\\'d have at least a 3-inch overhang.) Place the rice-meat stuffing in the pot and fold the overhanging leaves over the top of the filling. If necessary, layer additional leaves on top to completely enclose the filling.\", \"Place chicken stock in a small pan over high heat; when it\\'s hot, pour it over the torte. Cover the pot and transfer to oven. Let torte bake for 30 minutes, then lower the oven temperature to 275 degrees and continue cooking for about 1 hour more, or until rice is cooked and most of the liquid has been absorbed. (You can carefully peel away a leaf to check the rice, replacing it after you’ve tasted.)\", \\'Meanwhile, prepare the relish: Using a food processor, pulse fennel bulbs and Serrano pepper until finely chopped, being careful not to overprocess. Turn fennel and chile mixture out into a medium bowl and add lemon juice, pomegranate syrup, pomegranate seeds and salt and mix to combine. Stir in olive oil and adjust salt to taste. Just before serving, mix in the mint leaves.\\', \\'When torte is done baking, remove it from the oven and let it sit for a few minutes, covered. Run a sharp knife around the edge of the torte; cover with a flat, round serving platter; and invert the pot to remove the torte. Serve decorated with fennel fronds and garnished with fennel, pomegranate and mint relish.\\']',\n",
       "              'yield': '10 to 12 servings'}})"
      ]
     },
     "execution_count": 75,
     "metadata": {},
     "output_type": "execute_result"
    }
   ],
   "source": [
    "d"
   ]
  },
  {
   "cell_type": "code",
   "execution_count": 76,
   "metadata": {
    "collapsed": true
   },
   "outputs": [],
   "source": [
    "df = pd.DataFrame.from_dict(d)"
   ]
  },
  {
   "cell_type": "code",
   "execution_count": 77,
   "metadata": {
    "collapsed": true
   },
   "outputs": [],
   "source": [
    "df = df.T"
   ]
  },
  {
   "cell_type": "code",
   "execution_count": 78,
   "metadata": {
    "collapsed": true
   },
   "outputs": [],
   "source": [
    "df = df.rename_axis('name')"
   ]
  },
  {
   "cell_type": "code",
   "execution_count": 79,
   "metadata": {},
   "outputs": [
    {
     "data": {
      "text/html": [
       "<div>\n",
       "<style>\n",
       "    .dataframe thead tr:only-child th {\n",
       "        text-align: right;\n",
       "    }\n",
       "\n",
       "    .dataframe thead th {\n",
       "        text-align: left;\n",
       "    }\n",
       "\n",
       "    .dataframe tbody tr th {\n",
       "        vertical-align: top;\n",
       "    }\n",
       "</style>\n",
       "<table border=\"1\" class=\"dataframe\">\n",
       "  <thead>\n",
       "    <tr style=\"text-align: right;\">\n",
       "      <th></th>\n",
       "      <th>desc_tags</th>\n",
       "      <th>description</th>\n",
       "      <th>h1</th>\n",
       "      <th>ingredients</th>\n",
       "      <th>instructions</th>\n",
       "      <th>yield</th>\n",
       "    </tr>\n",
       "    <tr>\n",
       "      <th>name</th>\n",
       "      <th></th>\n",
       "      <th></th>\n",
       "      <th></th>\n",
       "      <th></th>\n",
       "      <th></th>\n",
       "      <th></th>\n",
       "    </tr>\n",
       "  </thead>\n",
       "  <tbody>\n",
       "    <tr>\n",
       "      <th>Classic Beef Brisket With Caramelized Onions.html</th>\n",
       "      <td>('Jewish', 'Allspice', 'Beef Brisket', 'Onion')</td>\n",
       "      <td>This is a classic brisket recipe with no bells...</td>\n",
       "      <td>Classic Beef Brisket With Caramelized Onions</td>\n",
       "      <td>[('3', 'tablespoons kosher salt'), ('½', 'teas...</td>\n",
       "      <td>['In a small bowl, mix together salt, pepper, ...</td>\n",
       "      <td>6 to 8 servings</td>\n",
       "    </tr>\n",
       "    <tr>\n",
       "      <th>Fresh Fig Cake With Honey Cream-Cheese Frosting.html</th>\n",
       "      <td>('Cream Cheese', 'Fig', 'Honey', 'Jam')</td>\n",
       "      <td>This dense and deeply figgy cake, adapted from...</td>\n",
       "      <td>Fresh Fig Cake With Honey Cream-Cheese Frosting</td>\n",
       "      <td>[('', 'Butter, for greasing the pan'), ('3', '...</td>\n",
       "      <td>['Make the cake: Heat oven to 325 degrees. But...</td>\n",
       "      <td>12 servings</td>\n",
       "    </tr>\n",
       "    <tr>\n",
       "      <th>Swiss Chard and Lamb Torte With Fennel-Pomegranate Relish.html</th>\n",
       "      <td>('Jewish', 'Middle Eastern', 'Fennel', 'Lamb',...</td>\n",
       "      <td>Festive dishes in Israel and throughout the Mi...</td>\n",
       "      <td>Swiss Chard and Lamb Torte With Fennel-Pomegra...</td>\n",
       "      <td>[('2 ⅓', 'cups medium-grain or sushi rice (1 p...</td>\n",
       "      <td>['Prepare the torte: Place rice in a heat-proo...</td>\n",
       "      <td>10 to 12 servings</td>\n",
       "    </tr>\n",
       "  </tbody>\n",
       "</table>\n",
       "</div>"
      ],
      "text/plain": [
       "                                                                                            desc_tags  \\\n",
       "name                                                                                                    \n",
       "Classic Beef Brisket With Caramelized Onions.html     ('Jewish', 'Allspice', 'Beef Brisket', 'Onion')   \n",
       "Fresh Fig Cake With Honey Cream-Cheese Frosting...            ('Cream Cheese', 'Fig', 'Honey', 'Jam')   \n",
       "Swiss Chard and Lamb Torte With Fennel-Pomegran...  ('Jewish', 'Middle Eastern', 'Fennel', 'Lamb',...   \n",
       "\n",
       "                                                                                          description  \\\n",
       "name                                                                                                    \n",
       "Classic Beef Brisket With Caramelized Onions.html   This is a classic brisket recipe with no bells...   \n",
       "Fresh Fig Cake With Honey Cream-Cheese Frosting...  This dense and deeply figgy cake, adapted from...   \n",
       "Swiss Chard and Lamb Torte With Fennel-Pomegran...  Festive dishes in Israel and throughout the Mi...   \n",
       "\n",
       "                                                                                                   h1  \\\n",
       "name                                                                                                    \n",
       "Classic Beef Brisket With Caramelized Onions.html        Classic Beef Brisket With Caramelized Onions   \n",
       "Fresh Fig Cake With Honey Cream-Cheese Frosting...    Fresh Fig Cake With Honey Cream-Cheese Frosting   \n",
       "Swiss Chard and Lamb Torte With Fennel-Pomegran...  Swiss Chard and Lamb Torte With Fennel-Pomegra...   \n",
       "\n",
       "                                                                                          ingredients  \\\n",
       "name                                                                                                    \n",
       "Classic Beef Brisket With Caramelized Onions.html   [('3', 'tablespoons kosher salt'), ('½', 'teas...   \n",
       "Fresh Fig Cake With Honey Cream-Cheese Frosting...  [('', 'Butter, for greasing the pan'), ('3', '...   \n",
       "Swiss Chard and Lamb Torte With Fennel-Pomegran...  [('2 ⅓', 'cups medium-grain or sushi rice (1 p...   \n",
       "\n",
       "                                                                                         instructions  \\\n",
       "name                                                                                                    \n",
       "Classic Beef Brisket With Caramelized Onions.html   ['In a small bowl, mix together salt, pepper, ...   \n",
       "Fresh Fig Cake With Honey Cream-Cheese Frosting...  ['Make the cake: Heat oven to 325 degrees. But...   \n",
       "Swiss Chard and Lamb Torte With Fennel-Pomegran...  ['Prepare the torte: Place rice in a heat-proo...   \n",
       "\n",
       "                                                                yield  \n",
       "name                                                                   \n",
       "Classic Beef Brisket With Caramelized Onions.html     6 to 8 servings  \n",
       "Fresh Fig Cake With Honey Cream-Cheese Frosting...        12 servings  \n",
       "Swiss Chard and Lamb Torte With Fennel-Pomegran...  10 to 12 servings  "
      ]
     },
     "execution_count": 79,
     "metadata": {},
     "output_type": "execute_result"
    }
   ],
   "source": [
    "df"
   ]
  },
  {
   "cell_type": "code",
   "execution_count": 93,
   "metadata": {
    "collapsed": true
   },
   "outputs": [],
   "source": [
    "import sqlite3"
   ]
  },
  {
   "cell_type": "code",
   "execution_count": 94,
   "metadata": {
    "collapsed": true
   },
   "outputs": [],
   "source": [
    "db = sqlite3.connect('am_v1.sqlite')"
   ]
  },
  {
   "cell_type": "code",
   "execution_count": 95,
   "metadata": {},
   "outputs": [],
   "source": [
    "cursor = db.cursor()"
   ]
  },
  {
   "cell_type": "code",
   "execution_count": 96,
   "metadata": {},
   "outputs": [
    {
     "data": {
      "text/plain": [
       "<sqlite3.Cursor at 0x11a123730>"
      ]
     },
     "execution_count": 96,
     "metadata": {},
     "output_type": "execute_result"
    }
   ],
   "source": [
    "cursor.execute(\"\"\"drop table Recipes\"\"\")"
   ]
  },
  {
   "cell_type": "code",
   "execution_count": 97,
   "metadata": {
    "collapsed": true
   },
   "outputs": [],
   "source": [
    "db.commit()"
   ]
  },
  {
   "cell_type": "code",
   "execution_count": 98,
   "metadata": {
    "scrolled": true
   },
   "outputs": [
    {
     "data": {
      "text/plain": [
       "<sqlite3.Cursor at 0x11a123730>"
      ]
     },
     "execution_count": 98,
     "metadata": {},
     "output_type": "execute_result"
    }
   ],
   "source": [
    "cursor.execute(\"\"\"create table Recipes (name text, desc_tags text, description text, h1 text, ingredients text,\n",
    "                instructions text, yield text)\"\"\")"
   ]
  },
  {
   "cell_type": "code",
   "execution_count": 99,
   "metadata": {
    "collapsed": true
   },
   "outputs": [],
   "source": [
    "db.commit()"
   ]
  },
  {
   "cell_type": "code",
   "execution_count": 100,
   "metadata": {},
   "outputs": [
    {
     "data": {
      "text/html": [
       "<div>\n",
       "<style>\n",
       "    .dataframe thead tr:only-child th {\n",
       "        text-align: right;\n",
       "    }\n",
       "\n",
       "    .dataframe thead th {\n",
       "        text-align: left;\n",
       "    }\n",
       "\n",
       "    .dataframe tbody tr th {\n",
       "        vertical-align: top;\n",
       "    }\n",
       "</style>\n",
       "<table border=\"1\" class=\"dataframe\">\n",
       "  <thead>\n",
       "    <tr style=\"text-align: right;\">\n",
       "      <th></th>\n",
       "      <th>desc_tags</th>\n",
       "      <th>description</th>\n",
       "      <th>h1</th>\n",
       "      <th>ingredients</th>\n",
       "      <th>instructions</th>\n",
       "      <th>yield</th>\n",
       "    </tr>\n",
       "    <tr>\n",
       "      <th>name</th>\n",
       "      <th></th>\n",
       "      <th></th>\n",
       "      <th></th>\n",
       "      <th></th>\n",
       "      <th></th>\n",
       "      <th></th>\n",
       "    </tr>\n",
       "  </thead>\n",
       "  <tbody>\n",
       "    <tr>\n",
       "      <th>Classic Beef Brisket With Caramelized Onions.html</th>\n",
       "      <td>('Jewish', 'Allspice', 'Beef Brisket', 'Onion')</td>\n",
       "      <td>This is a classic brisket recipe with no bells...</td>\n",
       "      <td>Classic Beef Brisket With Caramelized Onions</td>\n",
       "      <td>[('3', 'tablespoons kosher salt'), ('½', 'teas...</td>\n",
       "      <td>['In a small bowl, mix together salt, pepper, ...</td>\n",
       "      <td>6 to 8 servings</td>\n",
       "    </tr>\n",
       "    <tr>\n",
       "      <th>Fresh Fig Cake With Honey Cream-Cheese Frosting.html</th>\n",
       "      <td>('Cream Cheese', 'Fig', 'Honey', 'Jam')</td>\n",
       "      <td>This dense and deeply figgy cake, adapted from...</td>\n",
       "      <td>Fresh Fig Cake With Honey Cream-Cheese Frosting</td>\n",
       "      <td>[('', 'Butter, for greasing the pan'), ('3', '...</td>\n",
       "      <td>['Make the cake: Heat oven to 325 degrees. But...</td>\n",
       "      <td>12 servings</td>\n",
       "    </tr>\n",
       "    <tr>\n",
       "      <th>Swiss Chard and Lamb Torte With Fennel-Pomegranate Relish.html</th>\n",
       "      <td>('Jewish', 'Middle Eastern', 'Fennel', 'Lamb',...</td>\n",
       "      <td>Festive dishes in Israel and throughout the Mi...</td>\n",
       "      <td>Swiss Chard and Lamb Torte With Fennel-Pomegra...</td>\n",
       "      <td>[('2 ⅓', 'cups medium-grain or sushi rice (1 p...</td>\n",
       "      <td>['Prepare the torte: Place rice in a heat-proo...</td>\n",
       "      <td>10 to 12 servings</td>\n",
       "    </tr>\n",
       "  </tbody>\n",
       "</table>\n",
       "</div>"
      ],
      "text/plain": [
       "                                                                                            desc_tags  \\\n",
       "name                                                                                                    \n",
       "Classic Beef Brisket With Caramelized Onions.html     ('Jewish', 'Allspice', 'Beef Brisket', 'Onion')   \n",
       "Fresh Fig Cake With Honey Cream-Cheese Frosting...            ('Cream Cheese', 'Fig', 'Honey', 'Jam')   \n",
       "Swiss Chard and Lamb Torte With Fennel-Pomegran...  ('Jewish', 'Middle Eastern', 'Fennel', 'Lamb',...   \n",
       "\n",
       "                                                                                          description  \\\n",
       "name                                                                                                    \n",
       "Classic Beef Brisket With Caramelized Onions.html   This is a classic brisket recipe with no bells...   \n",
       "Fresh Fig Cake With Honey Cream-Cheese Frosting...  This dense and deeply figgy cake, adapted from...   \n",
       "Swiss Chard and Lamb Torte With Fennel-Pomegran...  Festive dishes in Israel and throughout the Mi...   \n",
       "\n",
       "                                                                                                   h1  \\\n",
       "name                                                                                                    \n",
       "Classic Beef Brisket With Caramelized Onions.html        Classic Beef Brisket With Caramelized Onions   \n",
       "Fresh Fig Cake With Honey Cream-Cheese Frosting...    Fresh Fig Cake With Honey Cream-Cheese Frosting   \n",
       "Swiss Chard and Lamb Torte With Fennel-Pomegran...  Swiss Chard and Lamb Torte With Fennel-Pomegra...   \n",
       "\n",
       "                                                                                          ingredients  \\\n",
       "name                                                                                                    \n",
       "Classic Beef Brisket With Caramelized Onions.html   [('3', 'tablespoons kosher salt'), ('½', 'teas...   \n",
       "Fresh Fig Cake With Honey Cream-Cheese Frosting...  [('', 'Butter, for greasing the pan'), ('3', '...   \n",
       "Swiss Chard and Lamb Torte With Fennel-Pomegran...  [('2 ⅓', 'cups medium-grain or sushi rice (1 p...   \n",
       "\n",
       "                                                                                         instructions  \\\n",
       "name                                                                                                    \n",
       "Classic Beef Brisket With Caramelized Onions.html   ['In a small bowl, mix together salt, pepper, ...   \n",
       "Fresh Fig Cake With Honey Cream-Cheese Frosting...  ['Make the cake: Heat oven to 325 degrees. But...   \n",
       "Swiss Chard and Lamb Torte With Fennel-Pomegran...  ['Prepare the torte: Place rice in a heat-proo...   \n",
       "\n",
       "                                                                yield  \n",
       "name                                                                   \n",
       "Classic Beef Brisket With Caramelized Onions.html     6 to 8 servings  \n",
       "Fresh Fig Cake With Honey Cream-Cheese Frosting...        12 servings  \n",
       "Swiss Chard and Lamb Torte With Fennel-Pomegran...  10 to 12 servings  "
      ]
     },
     "execution_count": 100,
     "metadata": {},
     "output_type": "execute_result"
    }
   ],
   "source": [
    "df"
   ]
  },
  {
   "cell_type": "code",
   "execution_count": 81,
   "metadata": {},
   "outputs": [],
   "source": [
    "df.to_sql('Recipes', conn, if_exists='append')"
   ]
  },
  {
   "cell_type": "code",
   "execution_count": 86,
   "metadata": {
    "collapsed": true
   },
   "outputs": [],
   "source": [
    "def query_db(page_name):\n",
    "    response = cursor.execute(f\"select * from Recipes\")\n",
    "    print(response.fetchall())"
   ]
  },
  {
   "cell_type": "code",
   "execution_count": 87,
   "metadata": {},
   "outputs": [
    {
     "name": "stdout",
     "output_type": "stream",
     "text": [
      "[]\n"
     ]
    }
   ],
   "source": [
    "query_db('Classic Beef Brisket With Caramelized Onions.html')"
   ]
  },
  {
   "cell_type": "code",
   "execution_count": 89,
   "metadata": {},
   "outputs": [],
   "source": [
    "response = cursor.execute('Select * from Recipes')"
   ]
  },
  {
   "cell_type": "code",
   "execution_count": 90,
   "metadata": {
    "collapsed": true
   },
   "outputs": [],
   "source": [
    "df1 = pd.DataFrame(response.fetchall())"
   ]
  },
  {
   "cell_type": "code",
   "execution_count": 91,
   "metadata": {},
   "outputs": [
    {
     "data": {
      "text/html": [
       "<div>\n",
       "<style>\n",
       "    .dataframe thead tr:only-child th {\n",
       "        text-align: right;\n",
       "    }\n",
       "\n",
       "    .dataframe thead th {\n",
       "        text-align: left;\n",
       "    }\n",
       "\n",
       "    .dataframe tbody tr th {\n",
       "        vertical-align: top;\n",
       "    }\n",
       "</style>\n",
       "<table border=\"1\" class=\"dataframe\">\n",
       "  <thead>\n",
       "    <tr style=\"text-align: right;\">\n",
       "      <th></th>\n",
       "    </tr>\n",
       "  </thead>\n",
       "  <tbody>\n",
       "  </tbody>\n",
       "</table>\n",
       "</div>"
      ],
      "text/plain": [
       "Empty DataFrame\n",
       "Columns: []\n",
       "Index: []"
      ]
     },
     "execution_count": 91,
     "metadata": {},
     "output_type": "execute_result"
    }
   ],
   "source": [
    "df1"
   ]
  },
  {
   "cell_type": "code",
   "execution_count": null,
   "metadata": {
    "collapsed": true
   },
   "outputs": [],
   "source": []
  }
 ],
 "metadata": {
  "kernelspec": {
   "display_name": "Python 3",
   "language": "python",
   "name": "python3"
  },
  "language_info": {
   "codemirror_mode": {
    "name": "ipython",
    "version": 3
   },
   "file_extension": ".py",
   "mimetype": "text/x-python",
   "name": "python",
   "nbconvert_exporter": "python",
   "pygments_lexer": "ipython3",
   "version": "3.6.0"
  }
 },
 "nbformat": 4,
 "nbformat_minor": 1
}
